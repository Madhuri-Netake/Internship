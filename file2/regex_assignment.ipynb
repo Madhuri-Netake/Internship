{
 "cells": [
  {
   "cell_type": "markdown",
   "id": "7a46ec04",
   "metadata": {},
   "source": [
    "### Question 1- Write a Python program to replace all occurrences of a space, comma, or dot with a colon.\n",
    "Sample Text- 'Python Exercises, PHP exercises.'\n",
    "Expected Output: Python:Exercises::PHP:exercises:\n"
   ]
  },
  {
   "cell_type": "code",
   "execution_count": 10,
   "id": "e72b928a",
   "metadata": {},
   "outputs": [
    {
     "name": "stdout",
     "output_type": "stream",
     "text": [
      "Python:Exercises::PHP:exercises:\n"
     ]
    }
   ],
   "source": [
    "import re\n",
    "\n",
    "def replace_(text):\n",
    "    \n",
    "    pattern = r'[\\s\\W.*]'\n",
    "    \n",
    "    matches = re.sub(pattern,':',text)\n",
    "    \n",
    "    return matches\n",
    "\n",
    "\n",
    "    print(matches)\n",
    "\n",
    "string = 'Python Exercises, PHP exercises.'\n",
    "\n",
    "result = replace_(string)\n",
    "\n",
    "print(result)"
   ]
  },
  {
   "cell_type": "code",
   "execution_count": 11,
   "id": "c70e12cf",
   "metadata": {},
   "outputs": [
    {
     "name": "stdout",
     "output_type": "stream",
     "text": [
      "i:am:goin:to:Somewhere:sometime\n"
     ]
    }
   ],
   "source": [
    "# example 2\n",
    "str1 = 'i,am,goin.to Somewhere,sometime'\n",
    "res_ = replace_(str1)\n",
    "\n",
    "print(res_)"
   ]
  },
  {
   "cell_type": "markdown",
   "id": "bf03c88b",
   "metadata": {},
   "source": [
    "### Question 2-  Create a dataframe using the dictionary below and remove everything (commas (,), !, XXXX, ;, etc.) from the columns except words.\n",
    "Dictionary- {'SUMMARY' : ['hello, world!', 'XXXXX test', '123four, five:; six...']}\n",
    "Expected output-\n",
    "0      hello world\n",
    "1             test\n",
    "2    four five six\n"
   ]
  },
  {
   "cell_type": "markdown",
   "id": "308ea4c0",
   "metadata": {},
   "source": [
    "### 1st method "
   ]
  },
  {
   "cell_type": "code",
   "execution_count": 12,
   "id": "4c9ec2a5",
   "metadata": {},
   "outputs": [
    {
     "name": "stdout",
     "output_type": "stream",
     "text": [
      "0       hello world \n",
      "1               test\n",
      "2     four five six \n",
      "Name: SUMMARY, dtype: object\n"
     ]
    }
   ],
   "source": [
    "import pandas as pd\n",
    "import re\n",
    "\n",
    "dictionary = {'SUMMARY' : ['hello, world!', 'XXXXX test', '123four, five:; six...']}\n",
    "\n",
    "df = pd.DataFrame(dictionary)\n",
    "\n",
    "df['SUMMARY']\n",
    "pattern = r'[\\WX\\d]+'\n",
    "mat = df['SUMMARY'].str.replace(pattern,' ',case=None,flags=0,regex=True)\n",
    "print(mat)\n"
   ]
  },
  {
   "cell_type": "markdown",
   "id": "e47ee5f5",
   "metadata": {},
   "source": [
    "### 2nd method\n"
   ]
  },
  {
   "cell_type": "code",
   "execution_count": 14,
   "id": "73d2cac3",
   "metadata": {},
   "outputs": [
    {
     "name": "stdout",
     "output_type": "stream",
     "text": [
      "0      hello world\n",
      "1             test\n",
      "2    four five six\n",
      "Name: SUMMARY, dtype: object\n"
     ]
    }
   ],
   "source": [
    " dictionary = {'SUMMARY' : ['hello, world!', 'XXXXX test', '123four, five:; six...']}\n",
    "\n",
    "df = pd.DataFrame(dictionary)\n",
    "\n",
    "df['SUMMARY']\n",
    "pattern = r'[!,;:\\.X\\d]+'\n",
    "mat = df['SUMMARY'].str.replace(pattern,'',case=None,flags=0,regex=True)\n",
    "print(mat)              "
   ]
  },
  {
   "cell_type": "markdown",
   "id": "c695cbb2",
   "metadata": {},
   "source": [
    "### Question 3- Create a function in python to find all words that are at least 4 characters long in a string. The use of the re.compile() method is mandatory.\n"
   ]
  },
  {
   "cell_type": "code",
   "execution_count": 15,
   "id": "d9b0fb1a",
   "metadata": {},
   "outputs": [
    {
     "name": "stdout",
     "output_type": "stream",
     "text": [
      "<function find_words at 0x126bfbac0>\n"
     ]
    }
   ],
   "source": [
    "\n",
    "def find_words(text):\n",
    "    pattern = r'(\\w{4})'\n",
    "    com_pat = re.compile(pattern)\n",
    "    match = com_pat.findall(text)\n",
    "    return match\n",
    "match = find_words\n",
    "print(match)\n"
   ]
  },
  {
   "cell_type": "markdown",
   "id": "b2357d0a",
   "metadata": {},
   "source": [
    "### Example 1"
   ]
  },
  {
   "cell_type": "code",
   "execution_count": 16,
   "id": "79cf79b5",
   "metadata": {},
   "outputs": [
    {
     "name": "stdout",
     "output_type": "stream",
     "text": [
      "['fskd', 'jiwe', '23is', 'md9m', 'ndjm', 'xyza', '2345', 'sdjf']\n"
     ]
    }
   ],
   "source": [
    "text = 'fskdjiwe 23ismd9mn ndjm zxu xyza 2345 sdjfjeh!!!'\n",
    "\n",
    "res_ = find_words(text)\n",
    "\n",
    "print(res_)"
   ]
  },
  {
   "cell_type": "markdown",
   "id": "24d15916",
   "metadata": {},
   "source": [
    "### Example 2"
   ]
  },
  {
   "cell_type": "code",
   "execution_count": 17,
   "id": "0ddb6ce9",
   "metadata": {},
   "outputs": [
    {
     "name": "stdout",
     "output_type": "stream",
     "text": [
      "['this', 'most', 'famo', 'tech', 'niqu', 'This', 'defa', 'only', 'tech', 'niqu', 'used', 'acro', 'mode']\n"
     ]
    }
   ],
   "source": [
    "str_2 = 'this is most famous technique.This is default and only technique used across in all models'\n",
    "\n",
    "res_1 = find_words(str_2)\n",
    "\n",
    "print(res_1)"
   ]
  },
  {
   "cell_type": "markdown",
   "id": "a2dc4729",
   "metadata": {},
   "source": [
    "### Question 4- Create a function in python to find all three, four, and five character words in a string. The use of the re.compile() method is mandatory.\n"
   ]
  },
  {
   "cell_type": "code",
   "execution_count": 18,
   "id": "ea7e49ae",
   "metadata": {},
   "outputs": [
    {
     "name": "stdout",
     "output_type": "stream",
     "text": [
      "<function find_words1 at 0x126bfbd00>\n",
      "['Its', 'Super', 'vised', 'machi', 'learn', 'ing', 'model', 'algor', 'ithm', 'can', 'used', 'for', 'class', 'ifica', 'tion', 'and', 'regre', 'ssion', 'purpo', 'ses']\n"
     ]
    }
   ],
   "source": [
    "def find_words1(text1):\n",
    "    \n",
    "    pattern_1 = r'\\w{3,5}'\n",
    "    \n",
    "    com_pat1 = re.compile(pattern_1)\n",
    "    \n",
    "    match_1 = com_pat1.findall(text1)\n",
    "    \n",
    "    return match_1\n",
    "\n",
    "mat_1 = find_words1\n",
    "\n",
    "print(mat_1)\n",
    "\n",
    "text = 'Its a Supervised machine learning model or algorithm.It can be used for classification and regression purposes '\n",
    " \n",
    "res_2 = find_words1(text)\n",
    "\n",
    "print(res_2)"
   ]
  },
  {
   "cell_type": "markdown",
   "id": "6523d7d8",
   "metadata": {},
   "source": [
    "### Examples 2"
   ]
  },
  {
   "cell_type": "code",
   "execution_count": 19,
   "id": "57565004",
   "metadata": {},
   "outputs": [
    {
     "name": "stdout",
     "output_type": "stream",
     "text": [
      "['Visua', 'lisat', 'ion', 'depen', 'perso', 'perso', 'how', 'each', 'perso', 'sees', 'the', 'graph', 'One', 'might', 'say', 'there', 'relat', 'ionsh', 'Betwe', 'featu', 'res', 'and', 'other', 'might', 'not', 'see', 'any', 'relat', 'ionsh']\n"
     ]
    }
   ],
   "source": [
    "text_2 = 'Visualisation depends on person to person, how each person sees the graph. One might say there is a relationship Between features and other might not see any relationship'\n",
    "\n",
    "res_3 = find_words1(text_2)\n",
    "\n",
    "print(res_3)"
   ]
  },
  {
   "cell_type": "markdown",
   "id": "13ebac1d",
   "metadata": {},
   "source": [
    "### Question 5- Create a function in Python to remove the parenthesis in a list of strings. The use of the re.compile() method is mandatory.\n",
    "Sample Text: [\"example (.com)\", \"hr@fliprobo (.com)\", \"github (.com)\", \"Hello (Data Science World)\", \"Data (Scientist)\"]\n",
    "Expected Output:\n",
    "example.com\n",
    "hr@fliprobo.com\n",
    "github.com\n",
    "Hello Data Science World"
   ]
  },
  {
   "cell_type": "code",
   "execution_count": 21,
   "id": "e47f93fe",
   "metadata": {
    "scrolled": true
   },
   "outputs": [
    {
     "name": "stdout",
     "output_type": "stream",
     "text": [
      "example .com hr@fliprobo .com github .com Hello Data Science World Data Scientist\n"
     ]
    }
   ],
   "source": [
    "def remove(text):\n",
    "\n",
    "    pattern_ = r'[^\\w@\\s.]'\n",
    "\n",
    "    com3 = re.compile(pattern_)\n",
    "\n",
    "    mat3 = com3.sub('',text)\n",
    "\n",
    "    return mat3\n",
    "\n",
    "sample = '[\"example (.com)\", \"hr@fliprobo (.com)\", \"github (.com)\", \"Hello (Data Science World)\", \"Data (Scientist)\"]'\n",
    "\n",
    "res_ = remove(sample)\n",
    "\n",
    "\n",
    "print(res_)"
   ]
  },
  {
   "cell_type": "markdown",
   "id": "36ba74fe",
   "metadata": {},
   "source": [
    "### Question 6- Write a python program to remove the parenthesis area from the text stored in the text file using Regular Expression.\n",
    "Sample Text: [\"example (.com)\", \"hr@fliprobo (.com)\", \"github (.com)\", \"Hello (Data Science World)\", \"Data (Scientist)\"]\n",
    "Expected Output: [\"example\", \"hr@fliprobo\", \"github\", \"Hello\", \"Data\"]\n",
    "Note- Store given sample text in the text file and then to remove the parenthesis area from the text.\n",
    "\n"
   ]
  },
  {
   "cell_type": "code",
   "execution_count": 22,
   "id": "980723ff",
   "metadata": {},
   "outputs": [
    {
     "name": "stdout",
     "output_type": "stream",
     "text": [
      "{\\rtf1\\ansi\\ansicpg1252\\cocoartf2709\n",
      "\\cocoatextscaling0\\cocoaplatform0{\\fonttbl\\f0\\fnil\\fcharset0 HelveticaNeue;}\n",
      "{\\colortbl;\\red255\\green255\\blue255;\\red255\\green255\\blue255;}\n",
      "{\\*\\expandedcolortbl;;\\cssrgb\\c100000\\c100000\\c100000;}\n",
      "\\paperw11900\\paperh16840\\margl1440\\margr1440\\vieww11520\\viewh8400\\viewkind0\n",
      "\\deftab720\n",
      "\\pard\\pardeftab720\\partightenfactor0\n",
      "\n",
      "\\f0\\fs28 \\cf0 \\cb2 \\expnd0\\expndtw0\\kerning0\n",
      "[\"example \", \"hr@fliprobo \", \"github \", \"Hello \", \"Data \"] s}\n"
     ]
    }
   ],
   "source": [
    "with open('practice _2.rtf') as file:\n",
    "    text = file.read()\n",
    "\n",
    "    pattern = r'\\(\\.*[\\w\\s]+\\)'\n",
    "\n",
    "    remove_ = re.sub(pattern,'', text)\n",
    "\n",
    "    print(remove_)\n",
    "\n"
   ]
  },
  {
   "cell_type": "markdown",
   "id": "8b5e3306",
   "metadata": {},
   "source": [
    "### Question 7- Write a regular expression in Python to split a string into uppercase letters.\n",
    "Sample text: “ImportanceOfRegularExpressionsInPython”\n",
    "Expected Output: [‘Importance’, ‘Of’, ‘Regular’, ‘Expression’, ‘In’, ‘Python’]\n"
   ]
  },
  {
   "cell_type": "code",
   "execution_count": 23,
   "id": "c1c2600d",
   "metadata": {},
   "outputs": [
    {
     "name": "stdout",
     "output_type": "stream",
     "text": [
      "['Importance', 'Of', 'Regular', 'Expressions', 'In', 'Python']\n"
     ]
    }
   ],
   "source": [
    "import re\n",
    "stri = 'ImportanceOfRegularExpressionsInPython' \n",
    "pat = r'[A-Z][a-z]*'\n",
    "result = re.findall(pat,stri)\n",
    "print(result)"
   ]
  },
  {
   "cell_type": "markdown",
   "id": "c5e13d94",
   "metadata": {},
   "source": [
    "### Question 8- Create a function in python to insert spaces between words starting with numbers.\n",
    "Sample Text: “RegularExpression1IsAn2ImportantTopic3InPython\"\n",
    "Expected Output: RegularExpression 1IsAn 2ImportantTopic 3InPython\n"
   ]
  },
  {
   "cell_type": "code",
   "execution_count": 24,
   "id": "6d8a7f0b",
   "metadata": {},
   "outputs": [
    {
     "name": "stdout",
     "output_type": "stream",
     "text": [
      "RegularExpression 1IsAn 2ImportantTopic 3InPython\n"
     ]
    }
   ],
   "source": [
    "def space(text):\n",
    "\n",
    "    pat2 = r'([\\w+])(\\d+)'\n",
    "\n",
    "    mat_ = re.sub(pat2,r'\\1 \\2',text)\n",
    "\n",
    "    return mat_\n",
    "\n",
    "sam_tex = 'RegularExpression1IsAn2ImportantTopic3InPython'\n",
    "\n",
    "matches = space(sam_tex)\n",
    "\n",
    "print(matches)"
   ]
  },
  {
   "cell_type": "markdown",
   "id": "c075fc3b",
   "metadata": {},
   "source": [
    "### Question 9- Create a function in python to insert spaces between words starting with capital letters or with numbers.\n",
    "Sample Text: “RegularExpression1IsAn2ImportantTopic3InPython\"\n",
    "Expected Output:  RegularExpression 1 IsAn 2 ImportantTopic 3 InPython\n"
   ]
  },
  {
   "cell_type": "code",
   "execution_count": 25,
   "id": "dc37b290",
   "metadata": {},
   "outputs": [
    {
     "name": "stdout",
     "output_type": "stream",
     "text": [
      "RegularExpression 1 IsAn 2 ImportantTopic 3 InPython\n"
     ]
    }
   ],
   "source": [
    "def space1(text):\n",
    "\n",
    "    pat3 = r'([\\w+])(\\d+)(\\w)'\n",
    "    res = re.sub(pat3,r'\\1 \\2 \\3',text)\n",
    "    return res\n",
    "string_ = 'RegularExpression1IsAn2ImportantTopic3InPython'\n",
    "\n",
    "matches_ = space1(string_)\n",
    "\n",
    "\n",
    "print(matches_)"
   ]
  },
  {
   "cell_type": "markdown",
   "id": "eeea9a76",
   "metadata": {},
   "source": [
    "### Question 10- Use the github link below to read the data and create a dataframe. After creating the dataframe extract the first 6 letters of each country and store in the dataframe under a new column called first_five_letters.\n",
    "Github Link-  https://raw.githubusercontent.com/dsrscientist/DSData/master/happiness_score_dataset.csv\n",
    "\n"
   ]
  },
  {
   "cell_type": "code",
   "execution_count": 26,
   "id": "ccf43ac9",
   "metadata": {
    "scrolled": true
   },
   "outputs": [
    {
     "data": {
      "text/html": [
       "<div>\n",
       "<style scoped>\n",
       "    .dataframe tbody tr th:only-of-type {\n",
       "        vertical-align: middle;\n",
       "    }\n",
       "\n",
       "    .dataframe tbody tr th {\n",
       "        vertical-align: top;\n",
       "    }\n",
       "\n",
       "    .dataframe thead th {\n",
       "        text-align: right;\n",
       "    }\n",
       "</style>\n",
       "<table border=\"1\" class=\"dataframe\">\n",
       "  <thead>\n",
       "    <tr style=\"text-align: right;\">\n",
       "      <th></th>\n",
       "      <th>Country</th>\n",
       "      <th>Region</th>\n",
       "      <th>Happiness Rank</th>\n",
       "      <th>Happiness Score</th>\n",
       "      <th>Standard Error</th>\n",
       "      <th>Economy (GDP per Capita)</th>\n",
       "      <th>Family</th>\n",
       "      <th>Health (Life Expectancy)</th>\n",
       "      <th>Freedom</th>\n",
       "      <th>Trust (Government Corruption)</th>\n",
       "      <th>Generosity</th>\n",
       "      <th>Dystopia Residual</th>\n",
       "    </tr>\n",
       "  </thead>\n",
       "  <tbody>\n",
       "    <tr>\n",
       "      <th>0</th>\n",
       "      <td>Switzerland</td>\n",
       "      <td>Western Europe</td>\n",
       "      <td>1</td>\n",
       "      <td>7.587</td>\n",
       "      <td>0.03411</td>\n",
       "      <td>1.39651</td>\n",
       "      <td>1.34951</td>\n",
       "      <td>0.94143</td>\n",
       "      <td>0.66557</td>\n",
       "      <td>0.41978</td>\n",
       "      <td>0.29678</td>\n",
       "      <td>2.51738</td>\n",
       "    </tr>\n",
       "    <tr>\n",
       "      <th>1</th>\n",
       "      <td>Iceland</td>\n",
       "      <td>Western Europe</td>\n",
       "      <td>2</td>\n",
       "      <td>7.561</td>\n",
       "      <td>0.04884</td>\n",
       "      <td>1.30232</td>\n",
       "      <td>1.40223</td>\n",
       "      <td>0.94784</td>\n",
       "      <td>0.62877</td>\n",
       "      <td>0.14145</td>\n",
       "      <td>0.43630</td>\n",
       "      <td>2.70201</td>\n",
       "    </tr>\n",
       "    <tr>\n",
       "      <th>2</th>\n",
       "      <td>Denmark</td>\n",
       "      <td>Western Europe</td>\n",
       "      <td>3</td>\n",
       "      <td>7.527</td>\n",
       "      <td>0.03328</td>\n",
       "      <td>1.32548</td>\n",
       "      <td>1.36058</td>\n",
       "      <td>0.87464</td>\n",
       "      <td>0.64938</td>\n",
       "      <td>0.48357</td>\n",
       "      <td>0.34139</td>\n",
       "      <td>2.49204</td>\n",
       "    </tr>\n",
       "    <tr>\n",
       "      <th>3</th>\n",
       "      <td>Norway</td>\n",
       "      <td>Western Europe</td>\n",
       "      <td>4</td>\n",
       "      <td>7.522</td>\n",
       "      <td>0.03880</td>\n",
       "      <td>1.45900</td>\n",
       "      <td>1.33095</td>\n",
       "      <td>0.88521</td>\n",
       "      <td>0.66973</td>\n",
       "      <td>0.36503</td>\n",
       "      <td>0.34699</td>\n",
       "      <td>2.46531</td>\n",
       "    </tr>\n",
       "    <tr>\n",
       "      <th>4</th>\n",
       "      <td>Canada</td>\n",
       "      <td>North America</td>\n",
       "      <td>5</td>\n",
       "      <td>7.427</td>\n",
       "      <td>0.03553</td>\n",
       "      <td>1.32629</td>\n",
       "      <td>1.32261</td>\n",
       "      <td>0.90563</td>\n",
       "      <td>0.63297</td>\n",
       "      <td>0.32957</td>\n",
       "      <td>0.45811</td>\n",
       "      <td>2.45176</td>\n",
       "    </tr>\n",
       "    <tr>\n",
       "      <th>...</th>\n",
       "      <td>...</td>\n",
       "      <td>...</td>\n",
       "      <td>...</td>\n",
       "      <td>...</td>\n",
       "      <td>...</td>\n",
       "      <td>...</td>\n",
       "      <td>...</td>\n",
       "      <td>...</td>\n",
       "      <td>...</td>\n",
       "      <td>...</td>\n",
       "      <td>...</td>\n",
       "      <td>...</td>\n",
       "    </tr>\n",
       "    <tr>\n",
       "      <th>153</th>\n",
       "      <td>Rwanda</td>\n",
       "      <td>Sub-Saharan Africa</td>\n",
       "      <td>154</td>\n",
       "      <td>3.465</td>\n",
       "      <td>0.03464</td>\n",
       "      <td>0.22208</td>\n",
       "      <td>0.77370</td>\n",
       "      <td>0.42864</td>\n",
       "      <td>0.59201</td>\n",
       "      <td>0.55191</td>\n",
       "      <td>0.22628</td>\n",
       "      <td>0.67042</td>\n",
       "    </tr>\n",
       "    <tr>\n",
       "      <th>154</th>\n",
       "      <td>Benin</td>\n",
       "      <td>Sub-Saharan Africa</td>\n",
       "      <td>155</td>\n",
       "      <td>3.340</td>\n",
       "      <td>0.03656</td>\n",
       "      <td>0.28665</td>\n",
       "      <td>0.35386</td>\n",
       "      <td>0.31910</td>\n",
       "      <td>0.48450</td>\n",
       "      <td>0.08010</td>\n",
       "      <td>0.18260</td>\n",
       "      <td>1.63328</td>\n",
       "    </tr>\n",
       "    <tr>\n",
       "      <th>155</th>\n",
       "      <td>Syria</td>\n",
       "      <td>Middle East and Northern Africa</td>\n",
       "      <td>156</td>\n",
       "      <td>3.006</td>\n",
       "      <td>0.05015</td>\n",
       "      <td>0.66320</td>\n",
       "      <td>0.47489</td>\n",
       "      <td>0.72193</td>\n",
       "      <td>0.15684</td>\n",
       "      <td>0.18906</td>\n",
       "      <td>0.47179</td>\n",
       "      <td>0.32858</td>\n",
       "    </tr>\n",
       "    <tr>\n",
       "      <th>156</th>\n",
       "      <td>Burundi</td>\n",
       "      <td>Sub-Saharan Africa</td>\n",
       "      <td>157</td>\n",
       "      <td>2.905</td>\n",
       "      <td>0.08658</td>\n",
       "      <td>0.01530</td>\n",
       "      <td>0.41587</td>\n",
       "      <td>0.22396</td>\n",
       "      <td>0.11850</td>\n",
       "      <td>0.10062</td>\n",
       "      <td>0.19727</td>\n",
       "      <td>1.83302</td>\n",
       "    </tr>\n",
       "    <tr>\n",
       "      <th>157</th>\n",
       "      <td>Togo</td>\n",
       "      <td>Sub-Saharan Africa</td>\n",
       "      <td>158</td>\n",
       "      <td>2.839</td>\n",
       "      <td>0.06727</td>\n",
       "      <td>0.20868</td>\n",
       "      <td>0.13995</td>\n",
       "      <td>0.28443</td>\n",
       "      <td>0.36453</td>\n",
       "      <td>0.10731</td>\n",
       "      <td>0.16681</td>\n",
       "      <td>1.56726</td>\n",
       "    </tr>\n",
       "  </tbody>\n",
       "</table>\n",
       "<p>158 rows × 12 columns</p>\n",
       "</div>"
      ],
      "text/plain": [
       "         Country                           Region  Happiness Rank  \\\n",
       "0    Switzerland                   Western Europe               1   \n",
       "1        Iceland                   Western Europe               2   \n",
       "2        Denmark                   Western Europe               3   \n",
       "3         Norway                   Western Europe               4   \n",
       "4         Canada                    North America               5   \n",
       "..           ...                              ...             ...   \n",
       "153       Rwanda               Sub-Saharan Africa             154   \n",
       "154        Benin               Sub-Saharan Africa             155   \n",
       "155        Syria  Middle East and Northern Africa             156   \n",
       "156      Burundi               Sub-Saharan Africa             157   \n",
       "157         Togo               Sub-Saharan Africa             158   \n",
       "\n",
       "     Happiness Score  Standard Error  Economy (GDP per Capita)   Family  \\\n",
       "0              7.587         0.03411                   1.39651  1.34951   \n",
       "1              7.561         0.04884                   1.30232  1.40223   \n",
       "2              7.527         0.03328                   1.32548  1.36058   \n",
       "3              7.522         0.03880                   1.45900  1.33095   \n",
       "4              7.427         0.03553                   1.32629  1.32261   \n",
       "..               ...             ...                       ...      ...   \n",
       "153            3.465         0.03464                   0.22208  0.77370   \n",
       "154            3.340         0.03656                   0.28665  0.35386   \n",
       "155            3.006         0.05015                   0.66320  0.47489   \n",
       "156            2.905         0.08658                   0.01530  0.41587   \n",
       "157            2.839         0.06727                   0.20868  0.13995   \n",
       "\n",
       "     Health (Life Expectancy)  Freedom  Trust (Government Corruption)  \\\n",
       "0                     0.94143  0.66557                        0.41978   \n",
       "1                     0.94784  0.62877                        0.14145   \n",
       "2                     0.87464  0.64938                        0.48357   \n",
       "3                     0.88521  0.66973                        0.36503   \n",
       "4                     0.90563  0.63297                        0.32957   \n",
       "..                        ...      ...                            ...   \n",
       "153                   0.42864  0.59201                        0.55191   \n",
       "154                   0.31910  0.48450                        0.08010   \n",
       "155                   0.72193  0.15684                        0.18906   \n",
       "156                   0.22396  0.11850                        0.10062   \n",
       "157                   0.28443  0.36453                        0.10731   \n",
       "\n",
       "     Generosity  Dystopia Residual  \n",
       "0       0.29678            2.51738  \n",
       "1       0.43630            2.70201  \n",
       "2       0.34139            2.49204  \n",
       "3       0.34699            2.46531  \n",
       "4       0.45811            2.45176  \n",
       "..          ...                ...  \n",
       "153     0.22628            0.67042  \n",
       "154     0.18260            1.63328  \n",
       "155     0.47179            0.32858  \n",
       "156     0.19727            1.83302  \n",
       "157     0.16681            1.56726  \n",
       "\n",
       "[158 rows x 12 columns]"
      ]
     },
     "execution_count": 26,
     "metadata": {},
     "output_type": "execute_result"
    }
   ],
   "source": [
    "import pandas as pd\n",
    "pd.read_csv('https://raw.githubusercontent.com/dsrscientist/DSData/master/happiness_score_dataset.csv')"
   ]
  },
  {
   "cell_type": "code",
   "execution_count": 27,
   "id": "3b9221a0",
   "metadata": {},
   "outputs": [],
   "source": [
    "df1 = pd.read_csv('https://raw.githubusercontent.com/dsrscientist/DSData/master/happiness_score_dataset.csv')"
   ]
  },
  {
   "cell_type": "code",
   "execution_count": 28,
   "id": "e4f3d304",
   "metadata": {},
   "outputs": [
    {
     "data": {
      "text/html": [
       "<div>\n",
       "<style scoped>\n",
       "    .dataframe tbody tr th:only-of-type {\n",
       "        vertical-align: middle;\n",
       "    }\n",
       "\n",
       "    .dataframe tbody tr th {\n",
       "        vertical-align: top;\n",
       "    }\n",
       "\n",
       "    .dataframe thead th {\n",
       "        text-align: right;\n",
       "    }\n",
       "</style>\n",
       "<table border=\"1\" class=\"dataframe\">\n",
       "  <thead>\n",
       "    <tr style=\"text-align: right;\">\n",
       "      <th></th>\n",
       "      <th>Country</th>\n",
       "      <th>Region</th>\n",
       "      <th>Happiness Rank</th>\n",
       "      <th>Happiness Score</th>\n",
       "      <th>Standard Error</th>\n",
       "      <th>Economy (GDP per Capita)</th>\n",
       "      <th>Family</th>\n",
       "      <th>Health (Life Expectancy)</th>\n",
       "      <th>Freedom</th>\n",
       "      <th>Trust (Government Corruption)</th>\n",
       "      <th>Generosity</th>\n",
       "      <th>Dystopia Residual</th>\n",
       "    </tr>\n",
       "  </thead>\n",
       "  <tbody>\n",
       "    <tr>\n",
       "      <th>0</th>\n",
       "      <td>Switzerland</td>\n",
       "      <td>Western Europe</td>\n",
       "      <td>1</td>\n",
       "      <td>7.587</td>\n",
       "      <td>0.03411</td>\n",
       "      <td>1.39651</td>\n",
       "      <td>1.34951</td>\n",
       "      <td>0.94143</td>\n",
       "      <td>0.66557</td>\n",
       "      <td>0.41978</td>\n",
       "      <td>0.29678</td>\n",
       "      <td>2.51738</td>\n",
       "    </tr>\n",
       "    <tr>\n",
       "      <th>1</th>\n",
       "      <td>Iceland</td>\n",
       "      <td>Western Europe</td>\n",
       "      <td>2</td>\n",
       "      <td>7.561</td>\n",
       "      <td>0.04884</td>\n",
       "      <td>1.30232</td>\n",
       "      <td>1.40223</td>\n",
       "      <td>0.94784</td>\n",
       "      <td>0.62877</td>\n",
       "      <td>0.14145</td>\n",
       "      <td>0.43630</td>\n",
       "      <td>2.70201</td>\n",
       "    </tr>\n",
       "    <tr>\n",
       "      <th>2</th>\n",
       "      <td>Denmark</td>\n",
       "      <td>Western Europe</td>\n",
       "      <td>3</td>\n",
       "      <td>7.527</td>\n",
       "      <td>0.03328</td>\n",
       "      <td>1.32548</td>\n",
       "      <td>1.36058</td>\n",
       "      <td>0.87464</td>\n",
       "      <td>0.64938</td>\n",
       "      <td>0.48357</td>\n",
       "      <td>0.34139</td>\n",
       "      <td>2.49204</td>\n",
       "    </tr>\n",
       "    <tr>\n",
       "      <th>3</th>\n",
       "      <td>Norway</td>\n",
       "      <td>Western Europe</td>\n",
       "      <td>4</td>\n",
       "      <td>7.522</td>\n",
       "      <td>0.03880</td>\n",
       "      <td>1.45900</td>\n",
       "      <td>1.33095</td>\n",
       "      <td>0.88521</td>\n",
       "      <td>0.66973</td>\n",
       "      <td>0.36503</td>\n",
       "      <td>0.34699</td>\n",
       "      <td>2.46531</td>\n",
       "    </tr>\n",
       "    <tr>\n",
       "      <th>4</th>\n",
       "      <td>Canada</td>\n",
       "      <td>North America</td>\n",
       "      <td>5</td>\n",
       "      <td>7.427</td>\n",
       "      <td>0.03553</td>\n",
       "      <td>1.32629</td>\n",
       "      <td>1.32261</td>\n",
       "      <td>0.90563</td>\n",
       "      <td>0.63297</td>\n",
       "      <td>0.32957</td>\n",
       "      <td>0.45811</td>\n",
       "      <td>2.45176</td>\n",
       "    </tr>\n",
       "  </tbody>\n",
       "</table>\n",
       "</div>"
      ],
      "text/plain": [
       "       Country          Region  Happiness Rank  Happiness Score  \\\n",
       "0  Switzerland  Western Europe               1            7.587   \n",
       "1      Iceland  Western Europe               2            7.561   \n",
       "2      Denmark  Western Europe               3            7.527   \n",
       "3       Norway  Western Europe               4            7.522   \n",
       "4       Canada   North America               5            7.427   \n",
       "\n",
       "   Standard Error  Economy (GDP per Capita)   Family  \\\n",
       "0         0.03411                   1.39651  1.34951   \n",
       "1         0.04884                   1.30232  1.40223   \n",
       "2         0.03328                   1.32548  1.36058   \n",
       "3         0.03880                   1.45900  1.33095   \n",
       "4         0.03553                   1.32629  1.32261   \n",
       "\n",
       "   Health (Life Expectancy)  Freedom  Trust (Government Corruption)  \\\n",
       "0                   0.94143  0.66557                        0.41978   \n",
       "1                   0.94784  0.62877                        0.14145   \n",
       "2                   0.87464  0.64938                        0.48357   \n",
       "3                   0.88521  0.66973                        0.36503   \n",
       "4                   0.90563  0.63297                        0.32957   \n",
       "\n",
       "   Generosity  Dystopia Residual  \n",
       "0     0.29678            2.51738  \n",
       "1     0.43630            2.70201  \n",
       "2     0.34139            2.49204  \n",
       "3     0.34699            2.46531  \n",
       "4     0.45811            2.45176  "
      ]
     },
     "execution_count": 28,
     "metadata": {},
     "output_type": "execute_result"
    }
   ],
   "source": [
    "df1.head()"
   ]
  },
  {
   "cell_type": "code",
   "execution_count": 29,
   "id": "0dd777b7",
   "metadata": {},
   "outputs": [
    {
     "data": {
      "text/plain": [
       "20     United Kingdom\n",
       "8         New Zealand\n",
       "124             Kenya\n",
       "71          Hong Kong\n",
       "1             Iceland\n",
       "Name: Country, dtype: object"
      ]
     },
     "execution_count": 29,
     "metadata": {},
     "output_type": "execute_result"
    }
   ],
   "source": [
    "df1['Country'].sample(5)"
   ]
  },
  {
   "cell_type": "code",
   "execution_count": 30,
   "id": "c176f5e8",
   "metadata": {
    "scrolled": true
   },
   "outputs": [
    {
     "data": {
      "text/html": [
       "<div>\n",
       "<style scoped>\n",
       "    .dataframe tbody tr th:only-of-type {\n",
       "        vertical-align: middle;\n",
       "    }\n",
       "\n",
       "    .dataframe tbody tr th {\n",
       "        vertical-align: top;\n",
       "    }\n",
       "\n",
       "    .dataframe thead th {\n",
       "        text-align: right;\n",
       "    }\n",
       "</style>\n",
       "<table border=\"1\" class=\"dataframe\">\n",
       "  <thead>\n",
       "    <tr style=\"text-align: right;\">\n",
       "      <th></th>\n",
       "      <th>0</th>\n",
       "    </tr>\n",
       "  </thead>\n",
       "  <tbody>\n",
       "    <tr>\n",
       "      <th>0</th>\n",
       "      <td>Switze</td>\n",
       "    </tr>\n",
       "    <tr>\n",
       "      <th>1</th>\n",
       "      <td>Icelan</td>\n",
       "    </tr>\n",
       "    <tr>\n",
       "      <th>2</th>\n",
       "      <td>Denmar</td>\n",
       "    </tr>\n",
       "    <tr>\n",
       "      <th>3</th>\n",
       "      <td>Norway</td>\n",
       "    </tr>\n",
       "    <tr>\n",
       "      <th>4</th>\n",
       "      <td>Canada</td>\n",
       "    </tr>\n",
       "    <tr>\n",
       "      <th>...</th>\n",
       "      <td>...</td>\n",
       "    </tr>\n",
       "    <tr>\n",
       "      <th>153</th>\n",
       "      <td>Rwanda</td>\n",
       "    </tr>\n",
       "    <tr>\n",
       "      <th>154</th>\n",
       "      <td>NaN</td>\n",
       "    </tr>\n",
       "    <tr>\n",
       "      <th>155</th>\n",
       "      <td>NaN</td>\n",
       "    </tr>\n",
       "    <tr>\n",
       "      <th>156</th>\n",
       "      <td>Burund</td>\n",
       "    </tr>\n",
       "    <tr>\n",
       "      <th>157</th>\n",
       "      <td>NaN</td>\n",
       "    </tr>\n",
       "  </tbody>\n",
       "</table>\n",
       "<p>158 rows × 1 columns</p>\n",
       "</div>"
      ],
      "text/plain": [
       "          0\n",
       "0    Switze\n",
       "1    Icelan\n",
       "2    Denmar\n",
       "3    Norway\n",
       "4    Canada\n",
       "..      ...\n",
       "153  Rwanda\n",
       "154     NaN\n",
       "155     NaN\n",
       "156  Burund\n",
       "157     NaN\n",
       "\n",
       "[158 rows x 1 columns]"
      ]
     },
     "execution_count": 30,
     "metadata": {},
     "output_type": "execute_result"
    }
   ],
   "source": [
    "patt = r'(\\w{6})'\n",
    "first_five_letters = df1['Country'].str.extract(patt,expand=True)\n",
    "first_five_letters"
   ]
  },
  {
   "cell_type": "code",
   "execution_count": 31,
   "id": "ed50761f",
   "metadata": {},
   "outputs": [
    {
     "name": "stdout",
     "output_type": "stream",
     "text": [
      "        0\n",
      "0  Switze\n",
      "1  Icelan\n",
      "2  Denmar\n",
      "3  Norway\n",
      "4  Canada\n"
     ]
    }
   ],
   "source": [
    "print(first_five_letters.head())"
   ]
  },
  {
   "cell_type": "code",
   "execution_count": 33,
   "id": "cfa05a99",
   "metadata": {},
   "outputs": [
    {
     "data": {
      "text/plain": [
       "0      Switze\n",
       "1      Icelan\n",
       "2      Denmar\n",
       "3      Norway\n",
       "4      Canada\n",
       "        ...  \n",
       "153    Rwanda\n",
       "154       NaN\n",
       "155       NaN\n",
       "156    Burund\n",
       "157       NaN\n",
       "Name: Country, Length: 158, dtype: object"
      ]
     },
     "execution_count": 33,
     "metadata": {},
     "output_type": "execute_result"
    }
   ],
   "source": [
    "patt = r'(\\w{6})'\n",
    "mat4 = df1['Country'].str.extract(patt,expand=False)\n",
    "mat4"
   ]
  },
  {
   "cell_type": "markdown",
   "id": "b7fb28ba",
   "metadata": {},
   "source": [
    "### Question 11- Write a Python program to match a string that contains only upper and lowercase letters, numbers, and underscores.\n"
   ]
  },
  {
   "cell_type": "code",
   "execution_count": 34,
   "id": "f792e1a9",
   "metadata": {},
   "outputs": [
    {
     "name": "stdout",
     "output_type": "stream",
     "text": [
      "True\n"
     ]
    }
   ],
   "source": [
    "import re\n",
    "\n",
    "def match_alphanumeric_underscore(string):\n",
    "   \n",
    "    pattern = re.compile(r'^[a-zA-Z0-9_]+$')\n",
    "\n",
    "    if pattern.match(string):\n",
    "        return True\n",
    "    else:\n",
    "        return False\n",
    "\n",
    "\n",
    "strings_to_match =  'data_science'\n",
    "print(match_alphanumeric_underscore(strings_to_match))"
   ]
  },
  {
   "cell_type": "markdown",
   "id": "a3c3f421",
   "metadata": {},
   "source": [
    "### Question 12- Write a Python program where a string will start with a specific number. \n"
   ]
  },
  {
   "cell_type": "code",
   "execution_count": 35,
   "id": "15828787",
   "metadata": {},
   "outputs": [
    {
     "name": "stdout",
     "output_type": "stream",
     "text": [
      "['2019there']\n"
     ]
    }
   ],
   "source": [
    "str_y = '2019there was covid pandamic breackout, it lasted till2020. 20dec 2019year'\n",
    "pat_4 = r'^20\\w+'\n",
    "mat_x = re.findall(pat_4,str_y) \n",
    "print(mat_x)"
   ]
  },
  {
   "cell_type": "markdown",
   "id": "73f2e56c",
   "metadata": {},
   "source": [
    "### Question 13- Write a Python program to remove leading zeros from an IP address\n"
   ]
  },
  {
   "cell_type": "code",
   "execution_count": 75,
   "id": "bf5892ea",
   "metadata": {},
   "outputs": [
    {
     "name": "stdout",
     "output_type": "stream",
     "text": [
      "Original IP: 192.168.01.001, All Zero Removed from IP: 192.168.1.1\n"
     ]
    }
   ],
   "source": [
    "def remove_zeros_from_ip(ip_address):\n",
    "    pattern = re.compile(r'\\b0*(\\d+)\\b')\n",
    "\n",
    "    cleaned_ip = '.'.join(pattern.sub(r'\\1', part) for part in ip_address.split('.'))\n",
    "    \n",
    "    return cleaned_ip\n",
    "\n",
    "test_ip_address = '192.168.01.001'\n",
    "\n",
    "cleaned_ip = remove_zeros_from_ip(test_ip_address)\n",
    "print(f'Original IP: {test_ip_address}, All Zero Removed from IP: {cleaned_ip}')"
   ]
  },
  {
   "cell_type": "markdown",
   "id": "51f350b6",
   "metadata": {},
   "source": [
    "### Question 14- Write a regular expression in python to match a date string in the form of Month name followed by day number and year stored in a text file.\n",
    "Sample text :  ' On August 15th 1947 that India was declared independent from British colonialism, and the reins of control were handed over to the leaders of the Country’.\n",
    "Expected Output- August 15th 1947\n",
    "Note- Store given sample text in the text file and then extract the date "
   ]
  },
  {
   "cell_type": "code",
   "execution_count": 36,
   "id": "315ebd14",
   "metadata": {
    "scrolled": true
   },
   "outputs": [
    {
     "name": "stdout",
     "output_type": "stream",
     "text": [
      "['August 15th 1947']\n"
     ]
    }
   ],
   "source": [
    "import re\n",
    "with open('untiled practice.rtf') as file:\n",
    "    text = file.read()\n",
    "\n",
    "    pattern = r'[A-Z][a-z]+\\s\\d{2}\\w{2}\\s\\d{4}'\n",
    "\n",
    "    match = re.findall(pattern, text)\n",
    "\n",
    "    print(match)\n",
    "\n"
   ]
  },
  {
   "cell_type": "markdown",
   "id": "9fccff8c",
   "metadata": {},
   "source": [
    "### Question 15- Write a Python program to search some literals strings in a string. \n",
    "Sample text : 'The quick brown fox jumps over the lazy dog.'\n",
    "Searched words : 'fox', 'dog', 'horse'\n"
   ]
  },
  {
   "cell_type": "code",
   "execution_count": 37,
   "id": "26e85bc1",
   "metadata": {},
   "outputs": [
    {
     "name": "stdout",
     "output_type": "stream",
     "text": [
      "Results  ['python', 'string', 'program']\n"
     ]
    }
   ],
   "source": [
    "\n",
    "def search(sample_text, literals):\n",
    "    found_literals = []\n",
    "    for literal in literals:\n",
    "\n",
    "        pattern = re.compile(literal)\n",
    "\n",
    "        \n",
    "        match = pattern.search(sample_text)\n",
    "        \n",
    "        if match:\n",
    "            found_literals.append(literal)\n",
    "    \n",
    "    return found_literals\n",
    "\n",
    "text = 'This is my first python program to identify literal string in sample text'\n",
    "\n",
    "to_search = ['python', 'string', 'program','not found']\n",
    "\n",
    "found_literals = search(text, to_search)\n",
    "\n",
    "print(\"Results \", found_literals)\n"
   ]
  },
  {
   "cell_type": "markdown",
   "id": "508d9f15",
   "metadata": {},
   "source": [
    "### Question 16- Write a Python program to search a literals string in a string and also find the location within the original string where the pattern occurs\n",
    "Sample text : 'The quick brown fox jumps over the lazy dog.'\n",
    "Searched words : 'fox'\n"
   ]
  },
  {
   "cell_type": "code",
   "execution_count": 39,
   "id": "2ce4fdaa",
   "metadata": {},
   "outputs": [
    {
     "name": "stdout",
     "output_type": "stream",
     "text": [
      "Occurrence 1: 'fox' found at position 16.\n"
     ]
    }
   ],
   "source": [
    "def find_(text, pattern):\n",
    "    occurrences = [(match.group(0), match.start()) for match in re.finditer(pattern, text)]\n",
    "    return occurrences\n",
    "\n",
    "\n",
    "text = 'The quick brown fox jumps over the lazy dog.'\n",
    "pattern = 'fox'\n",
    "\n",
    "substring_occurrences = find_(text, pattern)\n",
    "\n",
    "for occurrence, position in enumerate(substring_occurrences, 1):\n",
    "    print(f\"Occurrence {occurrence}: '{position[0]}' found at position {position[1]}.\")\n"
   ]
  },
  {
   "cell_type": "markdown",
   "id": "583d449b",
   "metadata": {},
   "source": [
    "### Question 17- Write a Python program to find the substrings within a string.\n",
    "Sample text : 'Python exercises, PHP exercises, C# exercises' Pattern : 'exercises'."
   ]
  },
  {
   "cell_type": "code",
   "execution_count": 61,
   "id": "6ae79e14",
   "metadata": {},
   "outputs": [
    {
     "name": "stdout",
     "output_type": "stream",
     "text": [
      "['exercises', 'exercises', 'exercises']\n"
     ]
    }
   ],
   "source": [
    "def find(text):\n",
    "   \n",
    "        pat1 = r'(exercises)+'\n",
    "   \n",
    "        match = re.findall(pat1,text)\n",
    "        \n",
    "    \n",
    "        return (match)\n",
    "\n",
    "exam_ = 'Python exercises, PHP exercises, C# exercises'\n",
    "\n",
    "res_x = find(exam_)\n",
    "\n",
    "print(res_x)"
   ]
  },
  {
   "cell_type": "markdown",
   "id": "e376dee8",
   "metadata": {},
   "source": [
    "### Question 18- Write a Python program to find the occurrence and position of the substrings within a string."
   ]
  },
  {
   "cell_type": "code",
   "execution_count": 64,
   "id": "8049d4f8",
   "metadata": {},
   "outputs": [
    {
     "name": "stdout",
     "output_type": "stream",
     "text": [
      "Occurrence 1: 'try' found at position 27.\n",
      "Occurrence 2: 'try' found at position 48.\n"
     ]
    }
   ],
   "source": [
    "text = 'dbasdjs dskj3onx S93847DKJ try SDKJ ASPODK 102  try jsdh893 0290 iuds 3847 '\n",
    "pattern = 'try'\n",
    "\n",
    "substring_occurrences = find_(text, pattern)\n",
    "\n",
    "for occurrence, position in enumerate(substring_occurrences, 1):\n",
    "    print(f\"Occurrence {occurrence}: '{position[0]}' found at position {position[1]}.\")\n"
   ]
  },
  {
   "cell_type": "markdown",
   "id": "e1cf8b00",
   "metadata": {},
   "source": [
    "### Question 19- Write a Python program to convert a date of yyyy-mm-dd format to dd-mm-yyyy format.\n"
   ]
  },
  {
   "cell_type": "code",
   "execution_count": 48,
   "id": "c9ad04d4",
   "metadata": {},
   "outputs": [
    {
     "name": "stdout",
     "output_type": "stream",
     "text": [
      "Original Date: 2023-10-26\n",
      "Converted Date: 26-10-2023\n"
     ]
    }
   ],
   "source": [
    "def date_format(text):\n",
    "    \n",
    "    pattern = r'(\\d{4})-(\\d{2})-(\\d{2})'\n",
    "    \n",
    "   \n",
    "    result = re.sub(pattern,r'\\3-\\2-\\1',text)\n",
    "    \n",
    "    return result\n",
    "\n",
    "\n",
    "text = '2023-10-26'\n",
    "\n",
    "\n",
    "output_date = date_format(text)\n",
    "\n",
    "print(\"Original Date:\", text)\n",
    "print(\"Converted Date:\", output_date)\n"
   ]
  },
  {
   "cell_type": "markdown",
   "id": "a3539b71",
   "metadata": {},
   "source": [
    "### Question 20- Create a function in python to find all decimal numbers with a precision of 1 or 2 in a string. The use of the re.compile() method is mandatory.\n",
    "Sample Text: \"01.12 0132.123 2.31875 145.8 3.01 27.25 0.25\"\n",
    "Expected Output: ['01.12', '145.8', '3.01', '27.25', '0.25']\n"
   ]
  },
  {
   "cell_type": "code",
   "execution_count": 49,
   "id": "6fff89a1",
   "metadata": {},
   "outputs": [
    {
     "name": "stdout",
     "output_type": "stream",
     "text": [
      "['01.12', '145.8', '3.01', '27.25', '0.25']\n"
     ]
    }
   ],
   "source": [
    "def find_decimal_numbers(text):\n",
    "    \n",
    "    pattern = r'\\b\\d+\\.\\d{1,2}\\b'\n",
    "\n",
    "   \n",
    "    regex = re.compile(pattern)\n",
    "\n",
    "   \n",
    "    matches = regex.findall(text)\n",
    "\n",
    "    return matches\n",
    "\n",
    "sample_text = \"01.12 0132.123 2.31875 145.8 3.01 27.25 0.25\"\n",
    "\n",
    "\n",
    "match = find_decimal_numbers(sample_text)\n",
    "\n",
    "print(match)\n"
   ]
  },
  {
   "cell_type": "markdown",
   "id": "739b6986",
   "metadata": {},
   "source": [
    "### Question 22- Write a regular expression in python program to extract maximum/largest numeric value from a string.\n",
    "Sample Text:  'My marks in each semester are: 947, 896, 926, 524, 734, 950, 642'\n",
    "Expected Output: 950\n"
   ]
  },
  {
   "cell_type": "code",
   "execution_count": 50,
   "id": "e7da2ad0",
   "metadata": {},
   "outputs": [
    {
     "name": "stdout",
     "output_type": "stream",
     "text": [
      "Max Value: 950\n"
     ]
    }
   ],
   "source": [
    "import re\n",
    "\n",
    "def find_numeric_value(text):\n",
    "    numbers_found_in_string= re.findall(r'\\d+', text)\n",
    "    if numbers_found_in_string:\n",
    "        return map(int, numbers_found_in_string)\n",
    "    else:\n",
    "        return None\n",
    "\n",
    "\n",
    "def max_value(numbers):\n",
    "    return max(numbers)\n",
    "       \n",
    "sample_text = 'My marks in each semester are: 947, 896, 926, 524, 734, 950, 642'\n",
    "\n",
    "numbers = find_numeric_value(sample_text)\n",
    "if numbers is not None:\n",
    "    max_value = max_value(numbers)\n",
    "    print(\"Max Value:\", max_value)\n",
    "else:\n",
    "    print(\"No Numeric values in you String.\")\n"
   ]
  },
  {
   "cell_type": "markdown",
   "id": "8dc07cad",
   "metadata": {},
   "source": [
    "### Question 23- Create a function in python to insert spaces between words starting with capital letters.\n",
    "Sample Text: “RegularExpressionIsAnImportantTopicInPython\"\n",
    "Expected Output: Regular Expression Is An Important Topic In Python\n"
   ]
  },
  {
   "cell_type": "code",
   "execution_count": 51,
   "id": "ce3f0233",
   "metadata": {},
   "outputs": [
    {
     "name": "stdout",
     "output_type": "stream",
     "text": [
      "Regular Expression Is An Important Topic In Python\n"
     ]
    }
   ],
   "source": [
    "def insert_spaces(text):\n",
    "    \n",
    "    pattern = r'(?<=[a-z])([A-Z])'\n",
    "    \n",
    "    result = re.sub(pattern, r' \\1', text)\n",
    "    \n",
    "    return result\n",
    "\n",
    "\n",
    "text = \"RegularExpressionIsAnImportantTopicInPython\"\n",
    "\n",
    "match = insert_spaces(text)\n",
    "\n",
    "print(match)\n",
    "\n"
   ]
  },
  {
   "cell_type": "code",
   "execution_count": 65,
   "id": "31b8276c",
   "metadata": {},
   "outputs": [
    {
     "name": "stdout",
     "output_type": "stream",
     "text": [
      "This Is Most Famous Technique This Is Default And Only Technique Used Across In All Models\n"
     ]
    }
   ],
   "source": [
    "#example 2\n",
    "text = 'ThisIsMostFamousTechniqueThisIsDefaultAndOnlyTechniqueUsedAcrossInAllModels'\n",
    "\n",
    "res = insert_spaces(text)\n",
    "\n",
    "print(res)"
   ]
  },
  {
   "cell_type": "markdown",
   "id": "ba19140d",
   "metadata": {},
   "source": [
    "### Question 24- Python regex to find sequences of one upper case letter followed by lower case letters\n"
   ]
  },
  {
   "cell_type": "code",
   "execution_count": 53,
   "id": "818188ad",
   "metadata": {},
   "outputs": [
    {
     "name": "stdout",
     "output_type": "stream",
     "text": [
      "['If', 'Ther', 'Many', 'Samples', 'Repeated', 'Test', 'Produce', 'Better']\n"
     ]
    }
   ],
   "source": [
    "text = 'If Ther are so Many Samples which are Repeated in Test set then model will Produce Better result'\n",
    "\n",
    "pattern = r'[A-Z][a-z]+'\n",
    "\n",
    "match = re.findall(pattern,text)\n",
    "\n",
    "print(match)"
   ]
  },
  {
   "cell_type": "markdown",
   "id": "8e2df6a2",
   "metadata": {},
   "source": [
    "### Question 25- Write a Python program to remove continuous duplicate words from Sentence using Regular Expression.\n",
    "Sample Text: \"Hello hello world world\"\n",
    "Expected Output: Hello hello world\n"
   ]
  },
  {
   "cell_type": "code",
   "execution_count": 54,
   "id": "5dd2ecdf",
   "metadata": {},
   "outputs": [
    {
     "name": "stdout",
     "output_type": "stream",
     "text": [
      " hello  world\n"
     ]
    }
   ],
   "source": [
    "def duplicate(text):\n",
    "    \n",
    "    pattern = r'\\b(\\w+)(?=.*\\W\\1\\b)'\n",
    "    \n",
    "    \n",
    "    match = re.sub(pattern,'',text,flags= re. IGNORECASE)\n",
    "\n",
    "    return match\n",
    "\n",
    "Text = \"Hello hello world world\"\n",
    "\n",
    "result = duplicate(Text)\n",
    "\n",
    "print(result)"
   ]
  },
  {
   "cell_type": "markdown",
   "id": "608b3b30",
   "metadata": {},
   "source": [
    "### Question 26-  Write a python program using RegEx to accept string ending with alphanumeric character.\n"
   ]
  },
  {
   "cell_type": "code",
   "execution_count": 56,
   "id": "589061af",
   "metadata": {},
   "outputs": [
    {
     "name": "stdout",
     "output_type": "stream",
     "text": [
      "True\n",
      "False\n"
     ]
    }
   ],
   "source": [
    "def alphanumeric(text):\n",
    "                                                      \n",
    "    pattern = r'[a-zA-Z0-9]$'\n",
    "    \n",
    "    if re.search(pattern, text):\n",
    "        \n",
    "        return True\n",
    "    \n",
    "    else:\n",
    "        \n",
    "        return False\n",
    "\n",
    "\n",
    "   \n",
    "    \n",
    "ex_tex = 'Current year will end on 31st December 2023.New year will start from 1st January2024'\n",
    "\n",
    "ex_tex1 = 'hello year2024!!!'\n",
    "\n",
    "result = alphanumeric(ex_tex)\n",
    "\n",
    "result1 = alphanumeric(ex_tex1)\n",
    "\n",
    "print(result)\n",
    "print(result1)"
   ]
  },
  {
   "cell_type": "markdown",
   "id": "52e33361",
   "metadata": {},
   "source": [
    "### Question 27-Write a python program using RegEx to extract the hashtags.\n",
    "Sample Text:  \"\"\"RT @kapil_kausik: #Doltiwal I mean #xyzabc is \"hurt\" by #Demonetization as the same has rendered USELESS <ed><U+00A0><U+00BD><ed><U+00B1><U+0089> \"acquired funds\" No wo\"\"\""
   ]
  },
  {
   "cell_type": "code",
   "execution_count": 57,
   "id": "f414f0b4",
   "metadata": {},
   "outputs": [
    {
     "name": "stdout",
     "output_type": "stream",
     "text": [
      "['#Doltiwal', '#xyzabc', '#Demonetization']\n"
     ]
    }
   ],
   "source": [
    "def hashtag(text):\n",
    "    \n",
    "    pattern = r'\\#\\w*'\n",
    "    \n",
    "    match = re.findall(pattern,text)\n",
    "    \n",
    "    return match\n",
    "\n",
    "text = ' \"\"\"RT @kapil_kausik: #Doltiwal I mean #xyzabc is \"hurt\" by #Demonetization as the same has rendered USELESS <U+00A0><U+00BD><U+00B1><U+0089> \"acquired funds\" No wo\"\"\"'\n",
    "\n",
    "result = hashtag(text)\n",
    "\n",
    "print(result)"
   ]
  },
  {
   "cell_type": "markdown",
   "id": "a4e5ecea",
   "metadata": {},
   "source": [
    "### Question 28- Write a python program using RegEx to remove <U+..> like symbols\n",
    "Check the below sample text, there are strange symbols something of the sort <U+..> all over the place. You need to come up with a general Regex expression that will cover all such symbols.\n",
    "Sample Text: \"@Jags123456 Bharat band on 28??<ed><U+00A0><U+00BD><ed><U+00B8><U+0082>Those who  are protesting #demonetization  are all different party leaders\"\n",
    "Expected Output: @Jags123456 Bharat band on 28??<ed><ed>Those who  are protesting #demonetization  are all different party leaders\n"
   ]
  },
  {
   "cell_type": "code",
   "execution_count": 58,
   "id": "677b7a5e",
   "metadata": {},
   "outputs": [
    {
     "name": "stdout",
     "output_type": "stream",
     "text": [
      "@Jags123456 Bharat band on 28??Those who are protesting #demonetization are all different party leaders\n"
     ]
    }
   ],
   "source": [
    "def toremove (text):\n",
    "    \n",
    "    pattern = r'<U\\+[A-Za-z0-9]+>'\n",
    "    \n",
    "    match = re.sub(pattern,'',text)\n",
    "    \n",
    "    return match\n",
    "\n",
    "    print(match)\n",
    "        \n",
    "text = '@Jags123456 Bharat band on 28??<U+00A0><U+00BD><U+00B8><U+0082>Those who are protesting #demonetization are all different party leaders'\n",
    "\n",
    "mat = toremove(text)\n",
    "print(mat)"
   ]
  },
  {
   "cell_type": "markdown",
   "id": "6d3fcff6",
   "metadata": {},
   "source": [
    "### Question 29- Write a python program to extract dates from the text stored in the text file.\n",
    "Sample Text: Ron was born on 12-09-1992 and he was admitted to school 15-12-1999.\n",
    "Note- Store this sample text in the file and then extract dates.\n"
   ]
  },
  {
   "cell_type": "code",
   "execution_count": 59,
   "id": "5d27322f",
   "metadata": {},
   "outputs": [
    {
     "name": "stdout",
     "output_type": "stream",
     "text": [
      "12-09-1992\n",
      "15-12-1999\n"
     ]
    }
   ],
   "source": [
    "with open('text_file.rtf') as file:\n",
    "    text = file.read()\n",
    "\n",
    "\n",
    "pattern = r'\\d+\\-\\d+\\-\\d{4}'\n",
    "\n",
    "dates = re.findall(pattern, text)\n",
    "\n",
    "\n",
    "for date in dates:\n",
    "    print(date)\n"
   ]
  },
  {
   "cell_type": "markdown",
   "id": "329a546b",
   "metadata": {},
   "source": [
    "### Question 30- Create a function in python to remove all words from a string of length between 2 and 4.\n",
    "The use of the re.compile() method is mandatory.\n",
    "Sample Text: \"The following example creates an ArrayList with a capacity of 50 elements. 4 elements are then added to the ArrayList and the ArrayList is trimmed accordingly.\"\n",
    "Expected Output:  following example creates ArrayList a capacity elements. 4 elements added ArrayList ArrayList trimmed accordingly.\n",
    "\n"
   ]
  },
  {
   "cell_type": "code",
   "execution_count": 60,
   "id": "e23f062c",
   "metadata": {},
   "outputs": [
    {
     "name": "stdout",
     "output_type": "stream",
     "text": [
      " following example creates  ArrayList  a capacity   elements. 4 elements   added   ArrayList   ArrayList  trimmed accordingly.\n"
     ]
    }
   ],
   "source": [
    "def length(text):\n",
    "    \n",
    "    pattern = r'\\b\\w{2,4}\\b'\n",
    "    \n",
    "    regex = re.sub(pattern,'',text)\n",
    "    \n",
    "    return regex\n",
    "\n",
    "    \n",
    "    \n",
    "text = 'The following example creates an ArrayList with a capacity of 50 elements. 4 elements are then added to the ArrayList and the ArrayList is trimmed accordingly.'\n",
    "\n",
    "ex = length(text)\n",
    "\n",
    "print(ex)"
   ]
  },
  {
   "cell_type": "code",
   "execution_count": null,
   "id": "3c72c1d3",
   "metadata": {},
   "outputs": [],
   "source": []
  }
 ],
 "metadata": {
  "kernelspec": {
   "display_name": "Python 3 (ipykernel)",
   "language": "python",
   "name": "python3"
  },
  "language_info": {
   "codemirror_mode": {
    "name": "ipython",
    "version": 3
   },
   "file_extension": ".py",
   "mimetype": "text/x-python",
   "name": "python",
   "nbconvert_exporter": "python",
   "pygments_lexer": "ipython3",
   "version": "3.10.9"
  }
 },
 "nbformat": 4,
 "nbformat_minor": 5
}
